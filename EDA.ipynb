{
 "cells": [
  {
   "cell_type": "markdown",
   "id": "930dad78",
   "metadata": {},
   "source": [
    "# Exploratory Data Analysis: October 13th, 2021\n",
    "\n",
    "## Objectives\n",
    "- Choose an artist.\n",
    "- Get their discography and lyrics to their respective songs.\n",
    "- Clean the data (e.g. KR vs ENG)"
   ]
  },
  {
   "cell_type": "code",
   "execution_count": 4,
   "id": "740d5691",
   "metadata": {
    "scrolled": true
   },
   "outputs": [],
   "source": [
    "import pandas as pd\n",
    "import lyricsgenius as genius"
   ]
  },
  {
   "cell_type": "markdown",
   "id": "bf7ad48f",
   "metadata": {},
   "source": [
    "### Client ID:\n",
    "- 9v4jgISic7TV4MiJW1h0sTPQjf2HOigzi10JZEiZvX1kxzgBkCINd1vK6NLsMW0C\n",
    "\n",
    "### Client Secret:\n",
    "- N/A\n",
    "\n",
    "### Client Access Token:\n",
    "- oWh91MguQJvO6mD9otmosJnKFgpyFAx8Vqzd-enE3BYFdslxrhffaba36n0yZ2iC"
   ]
  },
  {
   "cell_type": "code",
   "execution_count": 6,
   "id": "d0fdf8bd",
   "metadata": {
    "scrolled": true
   },
   "outputs": [],
   "source": [
    "# https://pypi.org/project/lyricsgenius/\n",
    "# https://github.com/johnwmillr/LyricsGenius#usage\n",
    "\n",
    "token = \"oWh91MguQJvO6mD9otmosJnKFgpyFAx8Vqzd-enE3BYFdslxrhffaba36n0yZ2iC\"\n",
    "\n",
    "genius = genius.Genius(token)"
   ]
  },
  {
   "cell_type": "code",
   "execution_count": 11,
   "id": "30fcfebe",
   "metadata": {
    "scrolled": true
   },
   "outputs": [
    {
     "name": "stdout",
     "output_type": "stream",
     "text": [
      "Searching for songs by Lee Hi...\n",
      "\n",
      "Changing artist name to 'Lee Hi (이하이)'\n",
      "Song 1: \"한숨 (BREATHE)\"\n",
      "Song 2: \"내 사랑 (My Love)\"\n",
      "Song 3: \"누구 없소 (NO ONE)\"\n",
      "Song 4: \"홀로 (HOLO)\"\n",
      "Song 5: \"ONLY\"\n",
      "Song 6: \"For You\"\n",
      "Song 7: \"구원자 (Savior)\"\n",
      "Song 8: \"Special\"\n",
      "Song 9: \"한두번  (1, 2)\"\n",
      "Song 10: \"Golden Slumbers\"\n",
      "Song 11: \"MISSING U\"\n",
      "Song 12: \"Rose\"\n",
      "Song 13: \"No Way\"\n",
      "Song 14: \"희망고문 (Blues)\"\n",
      "Song 15: \"손잡아 줘요 (Hold My Hand)\"\n",
      "Song 16: \"스쳐 간다 (Passing By)\"\n",
      "Song 17: \"20분전 (20MIN)\"\n",
      "Song 18: \"It’s over\"\n",
      "Song 19: \"My Star\"\n",
      "Song 20: \"빤간 립스틱 (Red Lipstick)\"\n",
      "Song 21: \"Fxxk Wit Us\"\n",
      "Song 22: \"1, 2, 3, 4\"\n",
      "Song 23: \"Love Is Over\"\n",
      "Song 24: \"안봐도 비디오 (Video)\"\n",
      "Song 25: \"Official\"\n",
      "Song 26: \"밤샘 (Up All Night)\"\n",
      "Song 27: \"World Tour (비행)\"\n",
      "Song 28: \"머리어깨무릎발 (H.S.K.T)\"\n",
      "Song 29: \"Dream\"\n",
      "Song 30: \"짝사랑 (One-sided love)\"\n",
      "Song 31: \"Brave Enough\"\n",
      "Song 32: \"허수아비 (Scarecrow)\"\n",
      "Song 33: \"Because\"\n",
      "Song 34: \"안전지대 (Safety Zone)\"\n",
      "Song 35: \"바보 (Fool for love)\"\n",
      "Song 36: \"Darling\"\n",
      "Song 37: \"Intro (Turn it up)\"\n",
      "Song 38: \"물타기 (Waterride)\"\n",
      "Song 39: \"그대의 의도 (Intentions)\"\n",
      "Song 40: \"Bye\"\n",
      "Song 41: \"어려워 (What is Love?)\"\n",
      "Song 42: \"내가 이상해 (Am I Strange)\"\n",
      "Song 43: \"Dear You (Romance 101 x LeeHi)\"\n",
      "Song 44: \"BREATHE (Japanese Version)\"\n",
      "Done. Found 44 songs.\n",
      "[Song(id, artist, ...), Song(id, artist, ...), Song(id, artist, ...), Song(id, artist, ...), Song(id, artist, ...), Song(id, artist, ...), Song(id, artist, ...), Song(id, artist, ...), Song(id, artist, ...), Song(id, artist, ...), Song(id, artist, ...), Song(id, artist, ...), Song(id, artist, ...), Song(id, artist, ...), Song(id, artist, ...), Song(id, artist, ...), Song(id, artist, ...), Song(id, artist, ...), Song(id, artist, ...), Song(id, artist, ...), Song(id, artist, ...), Song(id, artist, ...), Song(id, artist, ...), Song(id, artist, ...), Song(id, artist, ...), Song(id, artist, ...), Song(id, artist, ...), Song(id, artist, ...), Song(id, artist, ...), Song(id, artist, ...), Song(id, artist, ...), Song(id, artist, ...), Song(id, artist, ...), Song(id, artist, ...), Song(id, artist, ...), Song(id, artist, ...), Song(id, artist, ...), Song(id, artist, ...), Song(id, artist, ...), Song(id, artist, ...), Song(id, artist, ...), Song(id, artist, ...), Song(id, artist, ...), Song(id, artist, ...)]\n"
     ]
    }
   ],
   "source": [
    "# Finding an artist and their songs.\n",
    "\n",
    "# ?genius.search_artist\n",
    "\n",
    "artist = genius.search_artist(\"Lee Hi\", sort = \"popularity\", include_features = False)\n",
    "\n",
    "print(artist.songs)"
   ]
  },
  {
   "cell_type": "markdown",
   "id": "de272a4b",
   "metadata": {},
   "source": [
    "### Observations:\n",
    "- 64 songs @ include_features = True\n",
    "- 44 songs @ include_features = False\n",
    "\n",
    "### Notes:\n",
    "- Take a look at the length for \"Intro (Turn it up)\" &rarr; Too short?\n",
    "- Take a look at lyrics for \"BREATHE (Japanese Version)\" &rarr; Japanese?"
   ]
  },
  {
   "cell_type": "code",
   "execution_count": 13,
   "id": "4b6a6fd7",
   "metadata": {
    "scrolled": true
   },
   "outputs": [],
   "source": [
    "# ?genius"
   ]
  },
  {
   "cell_type": "code",
   "execution_count": 14,
   "id": "b55fec33",
   "metadata": {
    "scrolled": true
   },
   "outputs": [
    {
     "name": "stdout",
     "output_type": "stream",
     "text": [
      "Searching for \"한숨\" by Lee Hi (이하이)...\n",
      "Done.\n",
      "[이하이 \"한숨\" 가사]\n",
      "\n",
      "[Verse 1]\n",
      "숨을 크게 쉬어봐요\n",
      "당신의 가슴 양쪽이 저리게\n",
      "조금은 아파올 때까지 숨을 더 뱉어봐요\n",
      "당신의 안에 남은 게 없다고 느껴질 때까지\n",
      "\n",
      "[Refrain]\n",
      "숨이 벅차올라도 괜찮아요\n",
      "아무도 그댈 탓하진 않아\n",
      "가끔은 실수해도 돼\n",
      "누구든 그랬으니까\n",
      "괜찮다는 말\n",
      "말뿐인 위로지만\n",
      "\n",
      "[Chorus]\n",
      "누군가의 한숨 그 무거운 숨을\n",
      "내가 어떻게 헤아릴 수가 있을까요\n",
      "당신의 한숨 그 깊일 이해할 순 없겠지만\n",
      "괜찮아요 내가 안아줄게요\n",
      "\n",
      "[Refrain]\n",
      "숨이 벅차올라도 괜찮아요\n",
      "아무도 그댈 탓하진 않아\n",
      "가끔은 실수해도 돼\n",
      "누구든 그랬으니까\n",
      "괜찮다는 말\n",
      "말뿐인 위로지만\n",
      "[Chorus]\n",
      "누군가의 한숨 그 무거운 숨을\n",
      "내가 어떻게 헤아릴 수가 있을까요\n",
      "당신의 한숨 그 깊일 이해할 순 없겠지만\n",
      "괜찮아요 내가 안아줄게요\n",
      "\n",
      "[Bridge]\n",
      "남들 눈엔 힘 빠지는\n",
      "한숨으로 보일진 몰라도\n",
      "나는 알고 있죠\n",
      "작은 한숨 내뱉기도 어려운\n",
      "하루를 보냈단 걸\n",
      "이제 다른 생각은 마요\n",
      "깊이 숨을 쉬어봐요\n",
      "그대로 내뱉어요\n",
      "\n",
      "[Chorus]\n",
      "누군가의 한숨 그 무거운 숨을\n",
      "내가 어떻게 헤아릴 수가 있을까요\n",
      "당신의 한숨 그 깊일 이해할 순 없겠지만\n",
      "괜찮아요 내가 안아줄게요\n",
      "\n",
      "[Outro]\n",
      "정말 수고했어요6EmbedShare URLCopyEmbedCopy\n"
     ]
    }
   ],
   "source": [
    "first = genius.search_song(\"한숨\", artist.name)\n",
    "\n",
    "print(first.lyrics)"
   ]
  },
  {
   "cell_type": "code",
   "execution_count": 16,
   "id": "e1c257ed",
   "metadata": {
    "scrolled": true
   },
   "outputs": [
    {
     "name": "stdout",
     "output_type": "stream",
     "text": [
      "Searching for \"BREATHE (Japanese Version)\" by Lee Hi (이하이)...\n",
      "Done.\n",
      "[Verse 1]\n",
      "吸い込んでみて\n",
      "呼吸であなたの\n",
      "胸が痺れるほど強く\n",
      "吐き出してみて\n",
      "心の中から\n",
      "すべて消え去るまで\n",
      "\n",
      "[Refrain]\n",
      "時には失敗しても\n",
      "その息が途切れても\n",
      "誰もあなたを責めはしないから\n",
      "大丈夫 皆同じなの\n",
      "\n",
      "[Chorus]\n",
      "あなたがそっとつくため息\n",
      "どれほどの痛み抱えてるの\n",
      "ありのまま\n",
      "全部抱きしめてあげる\n",
      "あなたを そのため息も\n",
      "\n",
      "[Verse 2]\n",
      "小さな一息さえも\n",
      "わかるんだ私には\n",
      "\n",
      "[Refrain]\n",
      "吐き出すことすら\n",
      "大変な日々を\n",
      "今日もまた生きていること\n",
      "[Chorus]\n",
      "誰かがそっとつくため息\n",
      "どれほどのキズを隠してるの\n",
      "ありふれた言葉だけど大丈夫\n",
      "わたしが抱きしめるから\n",
      "\n",
      "[Bridge]\n",
      "あなたの思いを\n",
      "全て理解することなど\n",
      "私に出来はしないけど\n",
      "どうか側に居させて\n",
      "一緒に生きよう\n",
      "過去をもう何もかも\n",
      "忘れていいよ\n",
      "\n",
      "[Chorus]\n",
      "あなたがそっとつくため息\n",
      "どれほどの痛み抱えてるの\n",
      "ありのまま全部抱きしめてあげる\n",
      "あなたを そのため息も\n",
      "大丈夫だよEmbedShare URLCopyEmbedCopy\n"
     ]
    }
   ],
   "source": [
    "second = genius.search_song(\"BREATHE (Japanese Version)\", artist.name)\n",
    "\n",
    "print(second.lyrics)"
   ]
  },
  {
   "cell_type": "code",
   "execution_count": 15,
   "id": "de992ef3",
   "metadata": {
    "scrolled": true
   },
   "outputs": [
    {
     "name": "stdout",
     "output_type": "stream",
     "text": [
      "Searching for \"Intro (Turn it up)\" by Lee Hi (이하이)...\n",
      "Done.\n",
      "[이하이 \"Intro (Turn it up)\" 가사]\n",
      "\n",
      "[Verse]\n",
      "넘어질 때마다\n",
      "더 크게 웃으며 일어나, oh-ooh-whoa-oh-oh\n",
      "넘어지던 그때보다 높이\n",
      "'Cause my name is \"Hi\"\n",
      "음악이 있는 곳에 내가 있어\n",
      "Music is my life\n",
      "난 깊은 어둠 속에도 밝게 빛나\n",
      "I'm a star, oh-ooh-whoa-oh\n",
      "\n",
      "[Pre-Chorus]\n",
      "클럽에서 거리에서 헤드폰 속에서\n",
      "내 목소리가 들리는 이 순간까지\n",
      "얼마나 많은 눈물과 땀 흘렸는지\n",
      "기억해 잊지 못해\n",
      "And now it's time to shine\n",
      "\n",
      "[Chorus]\n",
      "Turn it up\n",
      "손을 위로 raise 'em, Hi\n",
      "두 눈을 감고\n",
      "음악과 하나가 된\n",
      "자 이 순간에 say my name\n",
      "Turn it up\n",
      "볼륨을 위로 raise it, hi\n",
      "내가 느껴지면 say my name\n",
      "Hi\n",
      "[Spoken]\n",
      "HiEmbedShare URLCopyEmbedCopy\n"
     ]
    }
   ],
   "source": [
    "intro = genius.search_song(\"Intro (Turn it up)\", artist.name)\n",
    "\n",
    "print(intro.lyrics)"
   ]
  },
  {
   "cell_type": "markdown",
   "id": "00ac7112",
   "metadata": {},
   "source": [
    "### Observations:\n",
    "- Partial title searches accompanied with the artist name is sufficient for lyric acquiring purposes.\n",
    "- Lyrics for \"한숨\" are completely in Korean.\n",
    "- Lyrics for \"BREATHE (Japanese Version)\" are completely in Japanese.\n",
    "- Lyrics for \"Intro (Turn it up)\" have both Korean and English.\n",
    "\n",
    "### Notes:\n",
    "- \"[ ]\" inside song lyrics (e.g. title, spoken, chorus), need to check and clean?\n",
    "- \"URLCopyEmbedCopy\" at the end of the song lyrics, need to check and clean?\n",
    "- Include chorus in analysis or clean data to only analyse unique (non- repeating) lyrics?\n",
    "- Will probably need to remove \"BREATHE (Japanese Version)\" for the purposes of this project. "
   ]
  },
  {
   "cell_type": "code",
   "execution_count": null,
   "id": "fbe81748",
   "metadata": {
    "scrolled": true
   },
   "outputs": [],
   "source": []
  }
 ],
 "metadata": {
  "kernelspec": {
   "display_name": "Python 3",
   "language": "python",
   "name": "python3"
  },
  "language_info": {
   "codemirror_mode": {
    "name": "ipython",
    "version": 3
   },
   "file_extension": ".py",
   "mimetype": "text/x-python",
   "name": "python",
   "nbconvert_exporter": "python",
   "pygments_lexer": "ipython3",
   "version": "3.8.8"
  }
 },
 "nbformat": 4,
 "nbformat_minor": 5
}
