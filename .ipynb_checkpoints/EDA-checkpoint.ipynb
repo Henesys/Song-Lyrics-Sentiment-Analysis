{
 "cells": [
  {
   "cell_type": "markdown",
   "id": "6b73cd82",
   "metadata": {},
   "source": [
    "# Exploratory Data Analysis: October 13th, 2021\n",
    "\n",
    "## Objectives\n",
    "- Choose an artist.\n",
    "- Get their discography and lyrics to their respective songs.\n",
    "- Clean the data (e.g. KR vs ENG)"
   ]
  },
  {
   "cell_type": "code",
   "execution_count": 4,
   "id": "cd9e520a",
   "metadata": {},
   "outputs": [],
   "source": [
    "import pandas as pd\n",
    "import lyricsgenius as genius"
   ]
  },
  {
   "cell_type": "markdown",
   "id": "948c6251",
   "metadata": {},
   "source": [
    "### Client ID:\n",
    "- 9v4jgISic7TV4MiJW1h0sTPQjf2HOigzi10JZEiZvX1kxzgBkCINd1vK6NLsMW0C\n",
    "\n",
    "### Client Secret:\n",
    "- HHK7R7MBd7lxHoBxvlusPz6_cUoiartZzA3HQ03cc4Oy4aJiwsRteMFRUTJG-EQUBs_mgteWdz19nGyQNRxZNg\n",
    "\n",
    "### Client Access Token:\n",
    "- oWh91MguQJvO6mD9otmosJnKFgpyFAx8Vqzd-enE3BYFdslxrhffaba36n0yZ2iC"
   ]
  },
  {
   "cell_type": "code",
   "execution_count": 6,
   "id": "059c9e56",
   "metadata": {},
   "outputs": [],
   "source": [
    "# https://pypi.org/project/lyricsgenius/\n",
    "# https://github.com/johnwmillr/LyricsGenius#usage\n",
    "\n",
    "token = \"oWh91MguQJvO6mD9otmosJnKFgpyFAx8Vqzd-enE3BYFdslxrhffaba36n0yZ2iC\"\n",
    "\n",
    "genius = genius.Genius(token)"
   ]
  },
  {
   "cell_type": "raw",
   "id": "00c41e89",
   "metadata": {},
   "source": [
    "genius.search_artist(\n",
    "    artist_name,\n",
    "    max_songs=None,\n",
    "    sort='popularity',\n",
    "    per_page=20,\n",
    "    get_full_info=True,\n",
    "    allow_name_change=True,\n",
    "    artist_id=None,\n",
    "    include_features=False,\n",
    ")"
   ]
  },
  {
   "cell_type": "code",
   "execution_count": 11,
   "id": "1cb97234",
   "metadata": {},
   "outputs": [
    {
     "name": "stdout",
     "output_type": "stream",
     "text": [
      "Searching for songs by Lee Hi...\n",
      "\n",
      "Changing artist name to 'Lee Hi (이하이)'\n",
      "Song 1: \"한숨 (BREATHE)\"\n",
      "Song 2: \"내 사랑 (My Love)\"\n",
      "Song 3: \"누구 없소 (NO ONE)\"\n",
      "Song 4: \"홀로 (HOLO)\"\n",
      "Song 5: \"ONLY\"\n",
      "Song 6: \"For You\"\n",
      "Song 7: \"구원자 (Savior)\"\n",
      "Song 8: \"Special\"\n",
      "Song 9: \"한두번  (1, 2)\"\n",
      "Song 10: \"Golden Slumbers\"\n",
      "Song 11: \"MISSING U\"\n",
      "Song 12: \"Rose\"\n",
      "Song 13: \"No Way\"\n",
      "Song 14: \"희망고문 (Blues)\"\n",
      "Song 15: \"손잡아 줘요 (Hold My Hand)\"\n",
      "Song 16: \"스쳐 간다 (Passing By)\"\n",
      "Song 17: \"20분전 (20MIN)\"\n",
      "Song 18: \"It’s over\"\n",
      "Song 19: \"My Star\"\n",
      "Song 20: \"빤간 립스틱 (Red Lipstick)\"\n",
      "Song 21: \"Fxxk Wit Us\"\n",
      "Song 22: \"1, 2, 3, 4\"\n",
      "Song 23: \"Love Is Over\"\n",
      "Song 24: \"안봐도 비디오 (Video)\"\n",
      "Song 25: \"Official\"\n",
      "Song 26: \"밤샘 (Up All Night)\"\n",
      "Song 27: \"World Tour (비행)\"\n",
      "Song 28: \"머리어깨무릎발 (H.S.K.T)\"\n",
      "Song 29: \"Dream\"\n",
      "Song 30: \"짝사랑 (One-sided love)\"\n",
      "Song 31: \"Brave Enough\"\n",
      "Song 32: \"허수아비 (Scarecrow)\"\n",
      "Song 33: \"Because\"\n",
      "Song 34: \"안전지대 (Safety Zone)\"\n",
      "Song 35: \"바보 (Fool for love)\"\n",
      "Song 36: \"Darling\"\n",
      "Song 37: \"Intro (Turn it up)\"\n",
      "Song 38: \"물타기 (Waterride)\"\n",
      "Song 39: \"그대의 의도 (Intentions)\"\n",
      "Song 40: \"Bye\"\n",
      "Song 41: \"어려워 (What is Love?)\"\n",
      "Song 42: \"내가 이상해 (Am I Strange)\"\n",
      "Song 43: \"Dear You (Romance 101 x LeeHi)\"\n",
      "Song 44: \"BREATHE (Japanese Version)\"\n",
      "Done. Found 44 songs.\n",
      "[Song(id, artist, ...), Song(id, artist, ...), Song(id, artist, ...), Song(id, artist, ...), Song(id, artist, ...), Song(id, artist, ...), Song(id, artist, ...), Song(id, artist, ...), Song(id, artist, ...), Song(id, artist, ...), Song(id, artist, ...), Song(id, artist, ...), Song(id, artist, ...), Song(id, artist, ...), Song(id, artist, ...), Song(id, artist, ...), Song(id, artist, ...), Song(id, artist, ...), Song(id, artist, ...), Song(id, artist, ...), Song(id, artist, ...), Song(id, artist, ...), Song(id, artist, ...), Song(id, artist, ...), Song(id, artist, ...), Song(id, artist, ...), Song(id, artist, ...), Song(id, artist, ...), Song(id, artist, ...), Song(id, artist, ...), Song(id, artist, ...), Song(id, artist, ...), Song(id, artist, ...), Song(id, artist, ...), Song(id, artist, ...), Song(id, artist, ...), Song(id, artist, ...), Song(id, artist, ...), Song(id, artist, ...), Song(id, artist, ...), Song(id, artist, ...), Song(id, artist, ...), Song(id, artist, ...), Song(id, artist, ...)]\n"
     ]
    }
   ],
   "source": [
    "# Finding an artist and their songs.\n",
    "\n",
    "# ?genius.search_artist\n",
    "\n",
    "artist = genius.search_artist(\"Lee Hi\", sort = \"popularity\", include_features = False)\n",
    "\n",
    "print(artist.songs)"
   ]
  },
  {
   "cell_type": "markdown",
   "id": "f8ff9214",
   "metadata": {},
   "source": [
    "### Observations:\n",
    "- 64 songs @ include_features = True\n",
    "- 44 songs @ include_features = False\n",
    "\n",
    "### Notes:\n",
    "- Take a look at the length for \"Intro (Turn it up)\" &rarr; Too short?\n",
    "- Take a look at lyrics for \"BREATHE (Japanese Version)\" &rarr; Japanese?"
   ]
  },
  {
   "cell_type": "code",
   "execution_count": 13,
   "id": "03b35cfd",
   "metadata": {},
   "outputs": [],
   "source": [
    "# ?genius"
   ]
  },
  {
   "cell_type": "code",
   "execution_count": null,
   "id": "f549c24d",
   "metadata": {},
   "outputs": [],
   "source": []
  }
 ],
 "metadata": {
  "kernelspec": {
   "display_name": "Python 3",
   "language": "python",
   "name": "python3"
  },
  "language_info": {
   "codemirror_mode": {
    "name": "ipython",
    "version": 3
   },
   "file_extension": ".py",
   "mimetype": "text/x-python",
   "name": "python",
   "nbconvert_exporter": "python",
   "pygments_lexer": "ipython3",
   "version": "3.8.8"
  }
 },
 "nbformat": 4,
 "nbformat_minor": 5
}
