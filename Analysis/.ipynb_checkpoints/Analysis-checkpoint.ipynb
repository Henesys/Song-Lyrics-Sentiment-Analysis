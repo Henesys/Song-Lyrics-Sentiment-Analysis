{
 "cells": [
  {
   "cell_type": "markdown",
   "id": "715af4b5",
   "metadata": {},
   "source": [
    "# Analysis of Song Lyrics:"
   ]
  },
  {
   "cell_type": "code",
   "execution_count": 4,
   "id": "fb57815d",
   "metadata": {},
   "outputs": [],
   "source": [
    "import pandas as pd\n",
    "import lyricsgenius as genius\n",
    "\n",
    "import string\n",
    "\n",
    "from Fetch import *"
   ]
  },
  {
   "cell_type": "markdown",
   "id": "5535fee4",
   "metadata": {},
   "source": [
    "### Search for Artist:"
   ]
  },
  {
   "cell_type": "code",
   "execution_count": 5,
   "id": "0d93d73c",
   "metadata": {},
   "outputs": [
    {
     "ename": "NameError",
     "evalue": "name 'findMusic' is not defined",
     "output_type": "error",
     "traceback": [
      "\u001b[1;31m---------------------------------------------------------------------------\u001b[0m",
      "\u001b[1;31mNameError\u001b[0m                                 Traceback (most recent call last)",
      "\u001b[1;32m<ipython-input-5-efd0c6e97d59>\u001b[0m in \u001b[0;36m<module>\u001b[1;34m\u001b[0m\n\u001b[0;32m      1\u001b[0m \u001b[0mtoken\u001b[0m \u001b[1;33m=\u001b[0m \u001b[1;34m\"oWh91MguQJvO6mD9otmosJnKFgpyFAx8Vqzd-enE3BYFdslxrhffaba36n0yZ2iC\"\u001b[0m\u001b[1;33m\u001b[0m\u001b[1;33m\u001b[0m\u001b[0m\n\u001b[0;32m      2\u001b[0m \u001b[1;33m\u001b[0m\u001b[0m\n\u001b[1;32m----> 3\u001b[1;33m \u001b[0mLH\u001b[0m \u001b[1;33m=\u001b[0m \u001b[0mfindMusic\u001b[0m\u001b[1;33m(\u001b[0m\u001b[1;34m\"Lee Hi\"\u001b[0m\u001b[1;33m,\u001b[0m \u001b[0mtoken\u001b[0m\u001b[1;33m)\u001b[0m\u001b[1;33m\u001b[0m\u001b[1;33m\u001b[0m\u001b[0m\n\u001b[0m",
      "\u001b[1;31mNameError\u001b[0m: name 'findMusic' is not defined"
     ]
    }
   ],
   "source": [
    "token = \"oWh91MguQJvO6mD9otmosJnKFgpyFAx8Vqzd-enE3BYFdslxrhffaba36n0yZ2iC\"\n",
    "\n",
    "LH = findMusic(\"Lee Hi\", token)"
   ]
  },
  {
   "cell_type": "code",
   "execution_count": null,
   "id": "5e17a2a5",
   "metadata": {},
   "outputs": [],
   "source": []
  }
 ],
 "metadata": {
  "kernelspec": {
   "display_name": "Python 3",
   "language": "python",
   "name": "python3"
  },
  "language_info": {
   "codemirror_mode": {
    "name": "ipython",
    "version": 3
   },
   "file_extension": ".py",
   "mimetype": "text/x-python",
   "name": "python",
   "nbconvert_exporter": "python",
   "pygments_lexer": "ipython3",
   "version": "3.8.8"
  }
 },
 "nbformat": 4,
 "nbformat_minor": 5
}
