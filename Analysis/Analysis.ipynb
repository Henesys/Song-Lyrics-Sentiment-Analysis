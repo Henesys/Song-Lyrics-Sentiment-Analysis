{
 "cells": [
  {
   "cell_type": "markdown",
   "id": "356b6e0c",
   "metadata": {},
   "source": [
    "# Analysis of Song Lyrics:"
   ]
  },
  {
   "cell_type": "code",
   "execution_count": 1,
   "id": "3c3cd247",
   "metadata": {},
   "outputs": [
    {
     "name": "stdout",
     "output_type": "stream",
     "text": [
      "importing Jupyter notebook from fetch.ipynb\n"
     ]
    }
   ],
   "source": [
    "import pandas as pd\n",
    "import lyricsgenius as genius\n",
    "\n",
    "import string\n",
    "\n",
    "# pip install import_ipynb\n",
    "import import_ipynb\n",
    "from fetch import *"
   ]
  },
  {
   "cell_type": "markdown",
   "id": "58dc1c8f",
   "metadata": {},
   "source": [
    "### Search for Artist:"
   ]
  },
  {
   "cell_type": "code",
   "execution_count": 2,
   "id": "8534f14c",
   "metadata": {},
   "outputs": [
    {
     "name": "stdout",
     "output_type": "stream",
     "text": [
      "Searching for songs by Lee Hi...\n",
      "\n",
      "Changing artist name to 'Lee Hi (이하이)'\n",
      "Song 1: \"한숨 (BREATHE)\"\n",
      "Song 2: \"내 사랑 (My Love)\"\n",
      "Song 3: \"누구 없소 (NO ONE)\"\n",
      "Song 4: \"ONLY\"\n",
      "Song 5: \"홀로 (HOLO)\"\n",
      "Song 6: \"For You\"\n",
      "Song 7: \"구원자 (Savior)\"\n",
      "Song 8: \"Special\"\n",
      "Song 9: \"한두번  (1, 2)\"\n",
      "Song 10: \"MISSING U\"\n",
      "Song 11: \"Golden Slumbers\"\n",
      "Song 12: \"Rose\"\n",
      "Song 13: \"No Way\"\n",
      "Song 14: \"희망고문 (Blues)\"\n",
      "Song 15: \"손잡아 줘요 (Hold My Hand)\"\n",
      "Song 16: \"스쳐 간다 (Passing By)\"\n",
      "Song 17: \"빤간 립스틱 (Red Lipstick)\"\n",
      "Song 18: \"20분전 (20MIN)\"\n",
      "Song 19: \"My Star\"\n",
      "Song 20: \"It’s over\"\n",
      "Song 21: \"Fxxk Wit Us\"\n",
      "Song 22: \"1, 2, 3, 4\"\n",
      "Song 23: \"Love Is Over\"\n",
      "Song 24: \"안봐도 비디오 (Video)\"\n",
      "Song 25: \"Official\"\n",
      "Song 26: \"밤샘 (Up All Night)\"\n",
      "Song 27: \"머리어깨무릎발 (H.S.K.T)\"\n",
      "Song 28: \"World Tour (비행)\"\n",
      "Song 29: \"Dream\"\n",
      "Song 30: \"짝사랑 (One-sided love)\"\n",
      "Song 31: \"Brave Enough\"\n",
      "Song 32: \"허수아비 (Scarecrow)\"\n",
      "Song 33: \"Because\"\n",
      "Song 34: \"안전지대 (Safety Zone)\"\n",
      "Song 35: \"Darling\"\n",
      "Song 36: \"바보 (Fool for love)\"\n",
      "Song 37: \"물타기 (Waterride)\"\n",
      "Song 38: \"Bye\"\n",
      "Song 39: \"어려워 (What is Love?)\"\n",
      "Song 40: \"그대의 의도 (Intentions)\"\n",
      "Song 41: \"Intro (Turn it up)\"\n",
      "Song 42: \"내가 이상해 (Am I Strange)\"\n",
      "Song 43: \"Dear You (Romance 101 x LeeHi)\"\n",
      "Song 44: \"BREATHE (Japanese Version)\"\n",
      "Song 45: \"Rose (Inkigayo Live)\"\n",
      "Done. Found 45 songs.\n"
     ]
    }
   ],
   "source": [
    "token = \"oWh91MguQJvO6mD9otmosJnKFgpyFAx8Vqzd-enE3BYFdslxrhffaba36n0yZ2iC\"\n",
    "\n",
    "LH = findMusic(\"Lee Hi\", token)"
   ]
  },
  {
   "cell_type": "code",
   "execution_count": 3,
   "id": "b52ccbd2",
   "metadata": {},
   "outputs": [
    {
     "data": {
      "text/html": [
       "<div>\n",
       "<style scoped>\n",
       "    .dataframe tbody tr th:only-of-type {\n",
       "        vertical-align: middle;\n",
       "    }\n",
       "\n",
       "    .dataframe tbody tr th {\n",
       "        vertical-align: top;\n",
       "    }\n",
       "\n",
       "    .dataframe thead th {\n",
       "        text-align: right;\n",
       "    }\n",
       "</style>\n",
       "<table border=\"1\" class=\"dataframe\">\n",
       "  <thead>\n",
       "    <tr style=\"text-align: right;\">\n",
       "      <th></th>\n",
       "      <th>Title</th>\n",
       "      <th>Artist</th>\n",
       "      <th>Lyrics</th>\n",
       "    </tr>\n",
       "  </thead>\n",
       "  <tbody>\n",
       "    <tr>\n",
       "      <th>0</th>\n",
       "      <td>한숨 (BREATHE)</td>\n",
       "      <td>Lee Hi (이하이)</td>\n",
       "      <td>[이하이 \"한숨\" 가사]\\n\\n[Verse 1]\\n숨을 크게 쉬어봐요\\n당신의 가슴...</td>\n",
       "    </tr>\n",
       "    <tr>\n",
       "      <th>1</th>\n",
       "      <td>내 사랑 (My Love)</td>\n",
       "      <td>Lee Hi (이하이)</td>\n",
       "      <td>Korean (Original)\\n\\n[Verse 1]\\n늘 멀리서 지켜만봤죠\\n내...</td>\n",
       "    </tr>\n",
       "    <tr>\n",
       "      <th>2</th>\n",
       "      <td>누구 없소 (NO ONE)</td>\n",
       "      <td>Lee Hi (이하이)</td>\n",
       "      <td>[Verse 1: LEE HI]\\n누구 없소\\n나를 붙잡아줄 님은 없소?\\n눈을 씻...</td>\n",
       "    </tr>\n",
       "    <tr>\n",
       "      <th>3</th>\n",
       "      <td>ONLY</td>\n",
       "      <td>Lee Hi (이하이)</td>\n",
       "      <td>[이하이 \"ONLY\" 가사]\\n\\n[Verse 1]\\nBe my only one\\n...</td>\n",
       "    </tr>\n",
       "    <tr>\n",
       "      <th>4</th>\n",
       "      <td>홀로 (HOLO)</td>\n",
       "      <td>Lee Hi (이하이)</td>\n",
       "      <td>[이하이 \"홀로\" 가사]\\n\\n[Verse 1]\\n홀로 있는 게 가만히 있는 게\\n...</td>\n",
       "    </tr>\n",
       "  </tbody>\n",
       "</table>\n",
       "</div>"
      ],
      "text/plain": [
       "            Title        Artist  \\\n",
       "0    한숨 (BREATHE)  Lee Hi (이하이)   \n",
       "1  내 사랑 (My Love)  Lee Hi (이하이)   \n",
       "2  누구 없소 (NO ONE)  Lee Hi (이하이)   \n",
       "3            ONLY  Lee Hi (이하이)   \n",
       "4       홀로 (HOLO)  Lee Hi (이하이)   \n",
       "\n",
       "                                              Lyrics  \n",
       "0  [이하이 \"한숨\" 가사]\\n\\n[Verse 1]\\n숨을 크게 쉬어봐요\\n당신의 가슴...  \n",
       "1  Korean (Original)\\n\\n[Verse 1]\\n늘 멀리서 지켜만봤죠\\n내...  \n",
       "2  [Verse 1: LEE HI]\\n누구 없소\\n나를 붙잡아줄 님은 없소?\\n눈을 씻...  \n",
       "3  [이하이 \"ONLY\" 가사]\\n\\n[Verse 1]\\nBe my only one\\n...  \n",
       "4  [이하이 \"홀로\" 가사]\\n\\n[Verse 1]\\n홀로 있는 게 가만히 있는 게\\n...  "
      ]
     },
     "execution_count": 3,
     "metadata": {},
     "output_type": "execute_result"
    }
   ],
   "source": [
    "LH.head()"
   ]
  },
  {
   "cell_type": "markdown",
   "id": "67e326d8",
   "metadata": {},
   "source": [
    "### Clean Artist's Song Lyrics:"
   ]
  },
  {
   "cell_type": "code",
   "execution_count": 4,
   "id": "8ba8c653",
   "metadata": {},
   "outputs": [
    {
     "name": "stderr",
     "output_type": "stream",
     "text": [
      "<string>:8: FutureWarning: The default value of regex will change from True to False in a future version. In addition, single character regular expressions will*not* be treated as literal strings when regex=True.\n",
      "<string>:9: FutureWarning: The default value of regex will change from True to False in a future version. In addition, single character regular expressions will*not* be treated as literal strings when regex=True.\n"
     ]
    }
   ],
   "source": [
    "LHc = fixLyrics(LH, \"Lyrics\")"
   ]
  },
  {
   "cell_type": "code",
   "execution_count": 9,
   "id": "61d353e8",
   "metadata": {},
   "outputs": [
    {
     "data": {
      "text/html": [
       "<div>\n",
       "<style scoped>\n",
       "    .dataframe tbody tr th:only-of-type {\n",
       "        vertical-align: middle;\n",
       "    }\n",
       "\n",
       "    .dataframe tbody tr th {\n",
       "        vertical-align: top;\n",
       "    }\n",
       "\n",
       "    .dataframe thead th {\n",
       "        text-align: right;\n",
       "    }\n",
       "</style>\n",
       "<table border=\"1\" class=\"dataframe\">\n",
       "  <thead>\n",
       "    <tr style=\"text-align: right;\">\n",
       "      <th></th>\n",
       "      <th>Title</th>\n",
       "      <th>Artist</th>\n",
       "      <th>Lyrics</th>\n",
       "    </tr>\n",
       "  </thead>\n",
       "  <tbody>\n",
       "    <tr>\n",
       "      <th>0</th>\n",
       "      <td>한숨 (BREATHE)</td>\n",
       "      <td>Lee Hi (이하이)</td>\n",
       "      <td>이하이 \"한숨\" 가사  verse 1 숨을 크게 쉬어봐요 당신의 가슴 양쪽이 저리게 조금은 아파올 때까지 숨을 더 뱉어봐요 당신의 안에 남은 게 없다고 느껴질 때까지  refrain 숨이 벅차올라도 괜찮아요 아무도 그댈 탓하진 않아 가끔은 실수해도 돼 누구든 그랬으니까 괜찮다는 말 말뿐인 위로지만  chorus 누군가의 한숨 그 무거운 숨을 내가 어떻게 헤아릴 수가 있을까요 당신의 한숨 그 깊일 이해할 순 없겠지만 괜찮아요 내가 안아줄게요  refrain 숨이 벅차올라도 괜찮아요 아무도 그댈 탓하진 않아 가끔은 실수해도 돼 누구든 그랬으니까 괜찮다는 말 말뿐인 위로지만 chorus 누군가의 한숨 그 무거운 숨을 내가 어떻게 헤아릴 수가 있을까요 당신의 한숨 그 깊일 이해할 순 없겠지만 괜찮아요 내가 안아줄게요  bridge 남들 눈엔 힘 빠지는 한숨으로 보일진 몰라도 나는 알고 있죠 작은 한숨 내뱉기도 어려운 하루를 보냈단 걸 이제 다른 생각은 마요 깊이 숨을 쉬어봐요 그대로 내뱉어요  chorus 누군가의 한숨 그 무거운 숨을 내가 어떻게 헤아릴 수가 있을까요 당신의 한숨 그 깊일 이해할 순 없겠지만 괜찮아요 내가 안아줄게요  outro 정말 수고했어요6embedshare urlcopyembedcopy</td>\n",
       "    </tr>\n",
       "    <tr>\n",
       "      <th>1</th>\n",
       "      <td>내 사랑 (My Love)</td>\n",
       "      <td>Lee Hi (이하이)</td>\n",
       "      <td>korean (original)  verse 1 늘 멀리서 지켜만봤죠 내 사랑인 것 같아서 그대 같은 마음인 줄 알았죠 다른 곳을 보았지만  verse 2 바람처럼 이 먼지처럼 잡히지가 않아 보이지않아  chorus remember love you i love you 사랑인 줄 믿었고 운명이라 불렀죠 remember love you i love you 그대 눈동자 속에 내가 살고있는데 너에게만 대답해줘요 휘청이는 날 붙잡아줘요 내 사랑 내 사랑  verse 3 내 마음의 창에 내리는 눈물이 대답해주네 내게 이룰 수 없는 인연이란 잊어야만 하는 사람 verse 4 멀어지는 나의 사랑을 보내줘야해요 내가 아니니  chorus/outro remember love you i love you 사랑인 줄 믿었고 운명이라 불렀죠 remember love you i love you 그대 눈동자 속에 내가 살고있는데 너에게만 대답해줘요 휘청이는 날 붙잡아줘요 내 사랑 내 사랑   english (translated)  verse 1 i always watched over you from afar because you seemed like my love i thought you felt the same way although you were looking somewhere else  verse 2 like the wind, like the dust i can’t catch you, i can’t see you chorus remember love you i love you i believed it was love i c...</td>\n",
       "    </tr>\n",
       "    <tr>\n",
       "      <th>2</th>\n",
       "      <td>누구 없소 (NO ONE)</td>\n",
       "      <td>Lee Hi (이하이)</td>\n",
       "      <td>verse 1: lee hi 누구 없소 나를 붙잡아줄 님은 없소? 눈을 씻고 찾아봐도 보이지가 않는데 어디 있소 나를 데려가 줄 님은 없소? 난 더 이상 못 참겠소 내게 다가와 주오  pre-chorus: lee hi 똑같은 거리 같은 달빛 속에서 (oh, na, na, na) 똑같은 자리 같은 잠에 들겠지 (oh, na, na, na) 이제는 누군갈 더하고 싶어 (싶어) 짙은 외로움 거두고 싶어 (싶어) i don't wanna be alone anymore  chorus: lee hi, b.i 똑똑 누구 없소 똑똑 난 여기 있소, 똑똑 거기 누구 없소 똑똑 넌 어디 있소 대답해주오 누구 없소  post-chorus: lee hi i don’t know i don't know i don't know 대체 님은 어디에 i don’t know i don't know i don't know i don't care about shit verse 2: b.i 거기 누구 없소 이 주인 없는 그리움을 어쩌냐는 말이오 혼자인 밤은 여전히 잠들기가 아쉬워 머문 적도 없는 나의 님은 대체 어딜 그리도 급하게 가시오  verse 3: b.i 누구 없소 대단히 별 볼 일 없는 나의 하루하루에는 필요해 별일 어지러운 도시와 외로운 이 현실 속에서 나를 데리고 도망가 주오 멀리 누구 없소  pre-chorus: lee hi 똑같은 거리 같은 달빛 속에서 (oh, na, na, na) 똑같은 자리 같은 잠에 들겠지 (oh, na, na, na) 이제는 누군갈 더하고 싶어 (싶어) 짙은 외로움 거두고 싶어 (싶어) i don't...</td>\n",
       "    </tr>\n",
       "    <tr>\n",
       "      <th>3</th>\n",
       "      <td>ONLY</td>\n",
       "      <td>Lee Hi (이하이)</td>\n",
       "      <td>이하이 \"only\" 가사  verse 1 be my only one 이렇게 부르고 싶은 이름 내 곁에 손을 잡고서 같이 걸어요  pre-chorus 비가 오는 밤에도 외로웠던 낮에도 그대 환한 빛깔을 내게 가득 칠해줘요 내가 더 잘할게요 이렇게 같이 있어준다면  chorus now i believe 라랄라랄라라 부르는 노래 찾고 찾고 찾아 헤매이던 그대와 my, oh my, oh my, oh 내 사랑 be my only love (my only love) 걸어 걸어가는 발걸음마다 기분 좋아 꼭 둘이서 추는 춤 같아 my, oh my, oh my, oh 내 사랑 be my only love  verse 2 be my only one 이제는 숨기지 않고도 말할 수 있어 그렇게나 말하고 싶던 i say, \"i love you,\" ooh-ooh (you, ooh-ooh) pre-chorus 쉬고 싶은 밤에도 바쁘던 아침에도 그대 내게 쉴 곳을 마음속에 마련해요 (oh, oh-oh) 내가 더 잘할게요 그 맘을 내게 나눠준다면  chorus now i believe 라랄라랄라라 부르는 노래 찾고 찾고 찾아 헤매이던 그대와 my, oh my, oh my, oh 내 사랑 be my only love  bridge my only one 그대를 보면 기대고 싶어 가지고 싶어 이 사랑이라면 어설픈 꿈도 이뤄질 것 같은데  chorus now i believe 걸어걸어 가는 발걸음마다 (걸어가는 발걸음) 기분 좋아 꼭 둘이서 추는 (hm) 춤 같아 my, oh my, oh my, oh (내 사랑) 내 사랑 (be) be m...</td>\n",
       "    </tr>\n",
       "    <tr>\n",
       "      <th>4</th>\n",
       "      <td>홀로 (HOLO)</td>\n",
       "      <td>Lee Hi (이하이)</td>\n",
       "      <td>이하이 \"홀로\" 가사  verse 1 홀로 있는 게 가만히 있는 게 어려운 일인가요 홀로 있어도 같이 있어도 외로운 건 같아요 one day it will stop  verse 2 말하는 대로 생각한 대로 되는 것 아닌가요 햇빛을 쬐고 숨 쉬어 봐도 쉽지는 않네요 one day it will stop  chorus and i'm gonna stop cryin' stop feelin' stop thinkin' 'bout you my babe 이제 그만 울 거야 나올 거야 나를 더 아껴줄 거야 and i'm gonna stop  verse 3 쟤보다 내가 나보다 쟤가 나은 게 중요한가요 수많은 날을 괴로워하다 이제 좀 알겠어요 verse 4 가만히 앉아 걱정하기엔 난 너무 소중해요 들여다봐요 맘속의 민낯 그대로 괜찮아요 it's gotta stop  chorus and i'm gonna stop cryin' stop feelin' stop thinkin' 'bout you my babe 이제 그만 울 거야 나올 거야 나를 더 아껴줄 거야 and i'm gonna stop and i'm gonna stop  verse 1 홀로 있는 게 가만히 있는 게 어려운 일인가요 홀로 있어도 같이 있어도 외로운 건 같아요 one day it will stop6embedshare urlcopyembedcopy</td>\n",
       "    </tr>\n",
       "  </tbody>\n",
       "</table>\n",
       "</div>"
      ],
      "text/plain": [
       "            Title        Artist                                                                                                                                                                                                                                                                                                                                                                                                                                                                                                                                                                                                                                                                                                                                                                                                                           Lyrics\n",
       "0    한숨 (BREATHE)  Lee Hi (이하이)                                                                                                                                                                               이하이 \"한숨\" 가사  verse 1 숨을 크게 쉬어봐요 당신의 가슴 양쪽이 저리게 조금은 아파올 때까지 숨을 더 뱉어봐요 당신의 안에 남은 게 없다고 느껴질 때까지  refrain 숨이 벅차올라도 괜찮아요 아무도 그댈 탓하진 않아 가끔은 실수해도 돼 누구든 그랬으니까 괜찮다는 말 말뿐인 위로지만  chorus 누군가의 한숨 그 무거운 숨을 내가 어떻게 헤아릴 수가 있을까요 당신의 한숨 그 깊일 이해할 순 없겠지만 괜찮아요 내가 안아줄게요  refrain 숨이 벅차올라도 괜찮아요 아무도 그댈 탓하진 않아 가끔은 실수해도 돼 누구든 그랬으니까 괜찮다는 말 말뿐인 위로지만 chorus 누군가의 한숨 그 무거운 숨을 내가 어떻게 헤아릴 수가 있을까요 당신의 한숨 그 깊일 이해할 순 없겠지만 괜찮아요 내가 안아줄게요  bridge 남들 눈엔 힘 빠지는 한숨으로 보일진 몰라도 나는 알고 있죠 작은 한숨 내뱉기도 어려운 하루를 보냈단 걸 이제 다른 생각은 마요 깊이 숨을 쉬어봐요 그대로 내뱉어요  chorus 누군가의 한숨 그 무거운 숨을 내가 어떻게 헤아릴 수가 있을까요 당신의 한숨 그 깊일 이해할 순 없겠지만 괜찮아요 내가 안아줄게요  outro 정말 수고했어요6embedshare urlcopyembedcopy\n",
       "1  내 사랑 (My Love)  Lee Hi (이하이)  korean (original)  verse 1 늘 멀리서 지켜만봤죠 내 사랑인 것 같아서 그대 같은 마음인 줄 알았죠 다른 곳을 보았지만  verse 2 바람처럼 이 먼지처럼 잡히지가 않아 보이지않아  chorus remember love you i love you 사랑인 줄 믿었고 운명이라 불렀죠 remember love you i love you 그대 눈동자 속에 내가 살고있는데 너에게만 대답해줘요 휘청이는 날 붙잡아줘요 내 사랑 내 사랑  verse 3 내 마음의 창에 내리는 눈물이 대답해주네 내게 이룰 수 없는 인연이란 잊어야만 하는 사람 verse 4 멀어지는 나의 사랑을 보내줘야해요 내가 아니니  chorus/outro remember love you i love you 사랑인 줄 믿었고 운명이라 불렀죠 remember love you i love you 그대 눈동자 속에 내가 살고있는데 너에게만 대답해줘요 휘청이는 날 붙잡아줘요 내 사랑 내 사랑   english (translated)  verse 1 i always watched over you from afar because you seemed like my love i thought you felt the same way although you were looking somewhere else  verse 2 like the wind, like the dust i can’t catch you, i can’t see you chorus remember love you i love you i believed it was love i c...\n",
       "2  누구 없소 (NO ONE)  Lee Hi (이하이)  verse 1: lee hi 누구 없소 나를 붙잡아줄 님은 없소? 눈을 씻고 찾아봐도 보이지가 않는데 어디 있소 나를 데려가 줄 님은 없소? 난 더 이상 못 참겠소 내게 다가와 주오  pre-chorus: lee hi 똑같은 거리 같은 달빛 속에서 (oh, na, na, na) 똑같은 자리 같은 잠에 들겠지 (oh, na, na, na) 이제는 누군갈 더하고 싶어 (싶어) 짙은 외로움 거두고 싶어 (싶어) i don't wanna be alone anymore  chorus: lee hi, b.i 똑똑 누구 없소 똑똑 난 여기 있소, 똑똑 거기 누구 없소 똑똑 넌 어디 있소 대답해주오 누구 없소  post-chorus: lee hi i don’t know i don't know i don't know 대체 님은 어디에 i don’t know i don't know i don't know i don't care about shit verse 2: b.i 거기 누구 없소 이 주인 없는 그리움을 어쩌냐는 말이오 혼자인 밤은 여전히 잠들기가 아쉬워 머문 적도 없는 나의 님은 대체 어딜 그리도 급하게 가시오  verse 3: b.i 누구 없소 대단히 별 볼 일 없는 나의 하루하루에는 필요해 별일 어지러운 도시와 외로운 이 현실 속에서 나를 데리고 도망가 주오 멀리 누구 없소  pre-chorus: lee hi 똑같은 거리 같은 달빛 속에서 (oh, na, na, na) 똑같은 자리 같은 잠에 들겠지 (oh, na, na, na) 이제는 누군갈 더하고 싶어 (싶어) 짙은 외로움 거두고 싶어 (싶어) i don't...\n",
       "3            ONLY  Lee Hi (이하이)  이하이 \"only\" 가사  verse 1 be my only one 이렇게 부르고 싶은 이름 내 곁에 손을 잡고서 같이 걸어요  pre-chorus 비가 오는 밤에도 외로웠던 낮에도 그대 환한 빛깔을 내게 가득 칠해줘요 내가 더 잘할게요 이렇게 같이 있어준다면  chorus now i believe 라랄라랄라라 부르는 노래 찾고 찾고 찾아 헤매이던 그대와 my, oh my, oh my, oh 내 사랑 be my only love (my only love) 걸어 걸어가는 발걸음마다 기분 좋아 꼭 둘이서 추는 춤 같아 my, oh my, oh my, oh 내 사랑 be my only love  verse 2 be my only one 이제는 숨기지 않고도 말할 수 있어 그렇게나 말하고 싶던 i say, \"i love you,\" ooh-ooh (you, ooh-ooh) pre-chorus 쉬고 싶은 밤에도 바쁘던 아침에도 그대 내게 쉴 곳을 마음속에 마련해요 (oh, oh-oh) 내가 더 잘할게요 그 맘을 내게 나눠준다면  chorus now i believe 라랄라랄라라 부르는 노래 찾고 찾고 찾아 헤매이던 그대와 my, oh my, oh my, oh 내 사랑 be my only love  bridge my only one 그대를 보면 기대고 싶어 가지고 싶어 이 사랑이라면 어설픈 꿈도 이뤄질 것 같은데  chorus now i believe 걸어걸어 가는 발걸음마다 (걸어가는 발걸음) 기분 좋아 꼭 둘이서 추는 (hm) 춤 같아 my, oh my, oh my, oh (내 사랑) 내 사랑 (be) be m...\n",
       "4       홀로 (HOLO)  Lee Hi (이하이)                                                                                                                              이하이 \"홀로\" 가사  verse 1 홀로 있는 게 가만히 있는 게 어려운 일인가요 홀로 있어도 같이 있어도 외로운 건 같아요 one day it will stop  verse 2 말하는 대로 생각한 대로 되는 것 아닌가요 햇빛을 쬐고 숨 쉬어 봐도 쉽지는 않네요 one day it will stop  chorus and i'm gonna stop cryin' stop feelin' stop thinkin' 'bout you my babe 이제 그만 울 거야 나올 거야 나를 더 아껴줄 거야 and i'm gonna stop  verse 3 쟤보다 내가 나보다 쟤가 나은 게 중요한가요 수많은 날을 괴로워하다 이제 좀 알겠어요 verse 4 가만히 앉아 걱정하기엔 난 너무 소중해요 들여다봐요 맘속의 민낯 그대로 괜찮아요 it's gotta stop  chorus and i'm gonna stop cryin' stop feelin' stop thinkin' 'bout you my babe 이제 그만 울 거야 나올 거야 나를 더 아껴줄 거야 and i'm gonna stop and i'm gonna stop  verse 1 홀로 있는 게 가만히 있는 게 어려운 일인가요 홀로 있어도 같이 있어도 외로운 건 같아요 one day it will stop6embedshare urlcopyembedcopy"
      ]
     },
     "execution_count": 9,
     "metadata": {},
     "output_type": "execute_result"
    }
   ],
   "source": [
    "pd.set_option('max_colwidth', 800)\n",
    "\n",
    "LHc.head()"
   ]
  },
  {
   "cell_type": "code",
   "execution_count": null,
   "id": "ad20a7f0",
   "metadata": {},
   "outputs": [],
   "source": []
  }
 ],
 "metadata": {
  "kernelspec": {
   "display_name": "Python 3",
   "language": "python",
   "name": "python3"
  },
  "language_info": {
   "codemirror_mode": {
    "name": "ipython",
    "version": 3
   },
   "file_extension": ".py",
   "mimetype": "text/x-python",
   "name": "python",
   "nbconvert_exporter": "python",
   "pygments_lexer": "ipython3",
   "version": "3.8.8"
  }
 },
 "nbformat": 4,
 "nbformat_minor": 5
}
